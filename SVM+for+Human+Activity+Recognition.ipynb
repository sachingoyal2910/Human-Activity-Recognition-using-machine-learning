{
 "cells": [
  {
   "cell_type": "code",
   "execution_count": 1,
   "metadata": {},
   "outputs": [
    {
     "name": "stderr",
     "output_type": "stream",
     "text": [
      "/usr/local/lib/python2.7/dist-packages/sklearn/cross_validation.py:41: DeprecationWarning: This module was deprecated in version 0.18 in favor of the model_selection module into which all the refactored classes and functions are moved. Also note that the interface of the new CV iterators are different from that of this module. This module will be removed in 0.20.\n",
      "  \"This module will be removed in 0.20.\", DeprecationWarning)\n",
      "/usr/local/lib/python2.7/dist-packages/sklearn/grid_search.py:42: DeprecationWarning: This module was deprecated in version 0.18 in favor of the model_selection module into which all the refactored classes and functions are moved. This module will be removed in 0.20.\n",
      "  DeprecationWarning)\n"
     ]
    }
   ],
   "source": [
    "import pandas as pd\n",
    "import numpy as np\n",
    "from sklearn import svm\n",
    "from sklearn.grid_search import GridSearchCV"
   ]
  },
  {
   "cell_type": "code",
   "execution_count": 2,
   "metadata": {},
   "outputs": [],
   "source": [
    "xtrain=pd.read_table('/home/hardik/Desktop/UCI HAR Dataset/train/X_train.txt',delim_whitespace=True,header=None)"
   ]
  },
  {
   "cell_type": "code",
   "execution_count": 3,
   "metadata": {},
   "outputs": [],
   "source": [
    "xtest=pd.read_table('/home/hardik/Desktop/UCI HAR Dataset/test/X_test.txt',delim_whitespace=True,header=None)"
   ]
  },
  {
   "cell_type": "code",
   "execution_count": 4,
   "metadata": {},
   "outputs": [],
   "source": [
    "ytrain=pd.read_table('/home/hardik/Desktop/UCI HAR Dataset/train/y_train.txt',header=None)"
   ]
  },
  {
   "cell_type": "code",
   "execution_count": 5,
   "metadata": {},
   "outputs": [],
   "source": [
    "ytest=pd.read_table('/home/hardik/Desktop/UCI HAR Dataset/test/y_test.txt',header=None)"
   ]
  },
  {
   "cell_type": "code",
   "execution_count": 6,
   "metadata": {},
   "outputs": [],
   "source": [
    "classifier=svm.SVC()"
   ]
  },
  {
   "cell_type": "code",
   "execution_count": 7,
   "metadata": {},
   "outputs": [],
   "source": [
    "parameters=[{'kernel': ['rbf'], 'gamma': [0.001, 0.0001], 'C': [1, 10, 100, 1000]}, {'kernel': ['linear'], 'C': [1, 10, 100, 1000]}]"
   ]
  },
  {
   "cell_type": "code",
   "execution_count": 8,
   "metadata": {},
   "outputs": [
    {
     "name": "stdout",
     "output_type": "stream",
     "text": [
      "Fitting 4 folds for each of 12 candidates, totalling 48 fits\n",
      "[CV] kernel=rbf, C=1, gamma=0.001 ....................................\n",
      "[CV] kernel=rbf, C=1, gamma=0.001 ....................................\n",
      "[CV] kernel=rbf, C=1, gamma=0.001 ....................................\n",
      "[CV] kernel=rbf, C=1, gamma=0.001 ....................................\n",
      "[CV] ........... kernel=rbf, C=1, gamma=0.001, score=0.877451 -  32.7s\n",
      "[CV] kernel=rbf, C=1, gamma=0.0001 ...................................\n",
      "[CV] ........... kernel=rbf, C=1, gamma=0.001, score=0.858696 -  33.7s\n",
      "[CV] kernel=rbf, C=1, gamma=0.0001 ...................................\n",
      "[CV] ........... kernel=rbf, C=1, gamma=0.001, score=0.915807 -  34.3s\n",
      "[CV] kernel=rbf, C=1, gamma=0.0001 ...................................\n",
      "[CV] ........... kernel=rbf, C=1, gamma=0.001, score=0.937330 -  35.5s\n",
      "[CV] kernel=rbf, C=1, gamma=0.0001 ...................................\n",
      "[CV] .......... kernel=rbf, C=1, gamma=0.0001, score=0.754481 - 1.3min\n",
      "[CV] kernel=rbf, C=10, gamma=0.001 ...................................\n",
      "[CV] .......... kernel=rbf, C=1, gamma=0.0001, score=0.734749 - 1.3min\n",
      "[CV] kernel=rbf, C=10, gamma=0.001 ...................................\n",
      "[CV] .......... kernel=rbf, C=1, gamma=0.0001, score=0.782609 - 1.3min\n",
      "[CV] kernel=rbf, C=10, gamma=0.001 ...................................\n",
      "[CV] .......... kernel=rbf, C=1, gamma=0.0001, score=0.803815 - 1.3min\n",
      "[CV] kernel=rbf, C=10, gamma=0.001 ...................................\n",
      "[CV] .......... kernel=rbf, C=10, gamma=0.001, score=0.935904 -  16.2s\n",
      "[CV] kernel=rbf, C=10, gamma=0.0001 ..................................\n",
      "[CV] .......... kernel=rbf, C=10, gamma=0.001, score=0.892935 -  16.1s\n",
      "[CV] kernel=rbf, C=10, gamma=0.0001 ..................................\n",
      "[CV] .......... kernel=rbf, C=10, gamma=0.001, score=0.919935 -  16.9s\n",
      "[CV] kernel=rbf, C=10, gamma=0.0001 ..................................\n",
      "[CV] .......... kernel=rbf, C=10, gamma=0.001, score=0.962398 -  17.2s\n",
      "[CV] kernel=rbf, C=10, gamma=0.0001 ..................................\n",
      "[CV] ......... kernel=rbf, C=10, gamma=0.0001, score=0.858152 -  43.8s\n",
      "[CV] kernel=rbf, C=100, gamma=0.001 ..................................\n",
      "[CV] ......... kernel=rbf, C=10, gamma=0.0001, score=0.916350 -  45.0s\n",
      "[CV] kernel=rbf, C=100, gamma=0.001 ..................................\n",
      "[CV] ......... kernel=rbf, C=10, gamma=0.0001, score=0.880719 -  43.8s\n",
      "[CV] kernel=rbf, C=100, gamma=0.001 ..................................\n",
      "[CV] ......... kernel=rbf, C=10, gamma=0.0001, score=0.937330 -  47.2s\n",
      "[CV] kernel=rbf, C=100, gamma=0.001 ..................................\n",
      "[CV] ......... kernel=rbf, C=100, gamma=0.001, score=0.935904 -  10.9s\n",
      "[CV] kernel=rbf, C=100, gamma=0.0001 .................................\n"
     ]
    },
    {
     "name": "stderr",
     "output_type": "stream",
     "text": [
      "[Parallel(n_jobs=-1)]: Done  17 tasks      | elapsed:  3.0min\n"
     ]
    },
    {
     "name": "stdout",
     "output_type": "stream",
     "text": [
      "[CV] ......... kernel=rbf, C=100, gamma=0.001, score=0.911957 -  11.4s\n",
      "[CV] kernel=rbf, C=100, gamma=0.0001 .................................\n",
      "[CV] ......... kernel=rbf, C=100, gamma=0.001, score=0.941721 -  11.8s\n",
      "[CV] kernel=rbf, C=100, gamma=0.0001 .................................\n",
      "[CV] ......... kernel=rbf, C=100, gamma=0.001, score=0.969482 -  12.9s\n",
      "[CV] kernel=rbf, C=100, gamma=0.0001 .................................\n",
      "[CV] ........ kernel=rbf, C=100, gamma=0.0001, score=0.935904 -  18.3s\n",
      "[CV] kernel=rbf, C=1000, gamma=0.001 .................................\n",
      "[CV] ........ kernel=rbf, C=100, gamma=0.0001, score=0.891304 -  18.7s\n",
      "[CV] kernel=rbf, C=1000, gamma=0.001 .................................\n",
      "[CV] ........ kernel=rbf, C=100, gamma=0.0001, score=0.921569 -  18.9s\n",
      "[CV] kernel=rbf, C=1000, gamma=0.001 .................................\n",
      "[CV] ........ kernel=rbf, C=1000, gamma=0.001, score=0.933732 -   8.6s\n",
      "[CV] kernel=rbf, C=1000, gamma=0.001 .................................\n",
      "[CV] ........ kernel=rbf, C=100, gamma=0.0001, score=0.962398 -  17.9s\n",
      "[CV] kernel=rbf, C=1000, gamma=0.0001 ................................\n",
      "[CV] ........ kernel=rbf, C=1000, gamma=0.001, score=0.911957 -   8.6s\n",
      "[CV] kernel=rbf, C=1000, gamma=0.0001 ................................\n",
      "[CV] ........ kernel=rbf, C=1000, gamma=0.001, score=0.944444 -   9.9s\n",
      "[CV] kernel=rbf, C=1000, gamma=0.0001 ................................\n",
      "[CV] ....... kernel=rbf, C=1000, gamma=0.0001, score=0.934818 -   9.2s\n",
      "[CV] kernel=rbf, C=1000, gamma=0.0001 ................................\n",
      "[CV] ........ kernel=rbf, C=1000, gamma=0.001, score=0.973297 -   9.5s\n",
      "[CV] kernel=linear, C=1 ..............................................\n",
      "[CV] ....... kernel=rbf, C=1000, gamma=0.0001, score=0.904891 -   9.2s\n",
      "[CV] kernel=linear, C=1 ..............................................\n",
      "[CV] ....... kernel=rbf, C=1000, gamma=0.0001, score=0.942266 -  12.0s\n",
      "[CV] kernel=linear, C=1 ..............................................\n",
      "[CV] ..................... kernel=linear, C=1, score=0.932645 -   9.0s\n",
      "[CV] kernel=linear, C=1 ..............................................\n",
      "[CV] ..................... kernel=linear, C=1, score=0.909783 -  10.2s\n",
      "[CV] kernel=linear, C=10 .............................................\n",
      "[CV] ....... kernel=rbf, C=1000, gamma=0.0001, score=0.969482 -  13.1s\n",
      "[CV] kernel=linear, C=10 .............................................\n",
      "[CV] ..................... kernel=linear, C=1, score=0.942266 -   9.7s\n",
      "[CV] kernel=linear, C=10 .............................................\n",
      "[CV] ..................... kernel=linear, C=1, score=0.975477 -  10.7s\n",
      "[CV] kernel=linear, C=10 .............................................\n",
      "[CV] .................... kernel=linear, C=10, score=0.934818 -   9.9s\n",
      "[CV] kernel=linear, C=100 ............................................\n",
      "[CV] .................... kernel=linear, C=10, score=0.907609 -  10.0s\n",
      "[CV] kernel=linear, C=100 ............................................\n",
      "[CV] .................... kernel=linear, C=10, score=0.937364 -  10.5s\n",
      "[CV] kernel=linear, C=100 ............................................\n",
      "[CV] .................... kernel=linear, C=10, score=0.974387 -  11.1s\n",
      "[CV] kernel=linear, C=100 ............................................\n",
      "[CV] ................... kernel=linear, C=100, score=0.939707 -   9.5s\n",
      "[CV] kernel=linear, C=1000 ...........................................\n",
      "[CV] ................... kernel=linear, C=100, score=0.907609 -   9.1s\n",
      "[CV] kernel=linear, C=1000 ...........................................\n",
      "[CV] ................... kernel=linear, C=100, score=0.935730 -  10.4s\n",
      "[CV] kernel=linear, C=1000 ...........................................\n",
      "[CV] .................. kernel=linear, C=1000, score=0.939707 -   8.1s\n",
      "[CV] kernel=linear, C=1000 ...........................................\n",
      "[CV] ................... kernel=linear, C=100, score=0.971117 -  10.1s\n",
      "[CV] .................. kernel=linear, C=1000, score=0.907609 -   9.2s\n",
      "[CV] .................. kernel=linear, C=1000, score=0.935730 -   6.5s\n",
      "[CV] .................. kernel=linear, C=1000, score=0.971117 -   5.9s\n"
     ]
    },
    {
     "name": "stderr",
     "output_type": "stream",
     "text": [
      "[Parallel(n_jobs=-1)]: Done  48 out of  48 | elapsed:  4.4min finished\n"
     ]
    },
    {
     "data": {
      "text/plain": [
       "GridSearchCV(cv=4, error_score='raise',\n",
       "       estimator=SVC(C=1.0, cache_size=200, class_weight=None, coef0=0.0,\n",
       "  decision_function_shape='ovr', degree=3, gamma='auto', kernel='rbf',\n",
       "  max_iter=-1, probability=False, random_state=None, shrinking=True,\n",
       "  tol=0.001, verbose=False),\n",
       "       fit_params={}, iid=True, n_jobs=-1,\n",
       "       param_grid=[{'kernel': ['rbf'], 'C': [1, 10, 100, 1000], 'gamma': [0.001, 0.0001]}, {'kernel': ['linear'], 'C': [1, 10, 100, 1000]}],\n",
       "       pre_dispatch='2*n_jobs', refit=True, scoring=None, verbose=4)"
      ]
     },
     "execution_count": 8,
     "metadata": {},
     "output_type": "execute_result"
    }
   ],
   "source": [
    "model=GridSearchCV(classifier,parameters,n_jobs=-1,cv=4,verbose=4)\n",
    "model.fit(xtrain.as_matrix(),ytrain.as_matrix().ravel().T)"
   ]
  },
  {
   "cell_type": "code",
   "execution_count": 9,
   "metadata": {},
   "outputs": [],
   "source": [
    "from sklearn.metrics import accuracy_score\n",
    "ypred=model.predict(xtest)\n",
    "accuracy=accuracy_score(ytest,ypred)"
   ]
  },
  {
   "cell_type": "code",
   "execution_count": 10,
   "metadata": {},
   "outputs": [
    {
     "name": "stdout",
     "output_type": "stream",
     "text": [
      "Best Parameters: {'kernel': 'rbf', 'C': 1000, 'gamma': 0.001}\n",
      "Accuracy Score: 96.5727858839 %\n"
     ]
    }
   ],
   "source": [
    "print 'Best Parameters: '+ str(model.best_params_)\n",
    "print 'Accuracy Score: '+ str(accuracy*100) + ' %'"
   ]
  },
  {
   "cell_type": "code",
   "execution_count": null,
   "metadata": {},
   "outputs": [],
   "source": []
  }
 ],
 "metadata": {
  "kernelspec": {
   "display_name": "Python 2",
   "language": "python",
   "name": "python2"
  },
  "language_info": {
   "codemirror_mode": {
    "name": "ipython",
    "version": 2
   },
   "file_extension": ".py",
   "mimetype": "text/x-python",
   "name": "python",
   "nbconvert_exporter": "python",
   "pygments_lexer": "ipython2",
   "version": "2.7.12"
  }
 },
 "nbformat": 4,
 "nbformat_minor": 2
}
